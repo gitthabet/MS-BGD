{
 "metadata": {
  "name": "",
  "signature": "sha256:a9f9831b254ac7957c949c9b1c1153c929ea4254aeda09670993a52d84736f8e"
 },
 "nbformat": 3,
 "nbformat_minor": 0,
 "worksheets": [
  {
   "cells": [
    {
     "cell_type": "markdown",
     "metadata": {},
     "source": [
      "Library to import"
     ]
    },
    {
     "cell_type": "code",
     "collapsed": false,
     "input": [
      "# -*- coding: utf-8 -*-\n",
      "import unicodedata as uni\n",
      "import re\n",
      "from pandas import Series, DataFrame\n",
      "import numpy as np\n",
      "import pandas as pd"
     ],
     "language": "python",
     "metadata": {},
     "outputs": [],
     "prompt_number": 1
    },
    {
     "cell_type": "markdown",
     "metadata": {},
     "source": [
      "Some String manipulation functions"
     ]
    },
    {
     "cell_type": "code",
     "collapsed": false,
     "input": [
      "def normalize(string):\n",
      "    return uni.normalize('NFKD',string).encode('ascii','ignore')"
     ],
     "language": "python",
     "metadata": {},
     "outputs": [],
     "prompt_number": 2
    },
    {
     "cell_type": "markdown",
     "metadata": {},
     "source": [
      "get the csv"
     ]
    },
    {
     "cell_type": "code",
     "collapsed": false,
     "input": [
      "DataMed = DataFrame.from_csv('MEDICAMDB.csv')\n",
      "DataMed = DataMed\n",
      "print DataMed.columns\n",
      "DataMed = DataMed.dropna()\n",
      "print DataMed.shape"
     ],
     "language": "python",
     "metadata": {},
     "outputs": [
      {
       "output_type": "stream",
       "stream": "stdout",
       "text": [
        "Index([u'NOM COURT', u'PRODUIT', u'Code EphMRA', u'Classe EphMRA', u'Code\\nATC', u'Classe\\nATC', u'Code\\nATC 2', u'Libell\u00e9\\nATC 2', u'Base de remboursement 2008', u'Base de remboursement 2009', u'Base de remboursement 2010', u'Base de remboursement 2011', u'Base de remboursement 2012', u'Base de remboursement 2013', u'Nombre de boites rembours\u00e9es 2008', u'Nombre de boites rembours\u00e9es 2009', u'Nombre de boites rembours\u00e9es 2010', u'Nombre de boites rembours\u00e9es 2011', u'Nombre de boites rembours\u00e9es 2012', u'Nombre de boites rembours\u00e9es 2013', u'Montant rembours\u00e9 2008', u'Montant rembours\u00e9 2009', u'Montant rembours\u00e9 2010', u'Montant rembours\u00e9 2011', u'Montant rembours\u00e9 2012', u'Montant rembours\u00e9 2013', u'Prescripteurs de ville Base de remboursement 2008', u'Prescripteurs de ville Base de remboursement 2009', u'Prescripteurs de ville Base de remboursement 2010', u'Prescripteurs de ville Base de remboursement 2011', u'Prescripteurs de ville Base de remboursement 2012', u'Prescripteurs de ville Base de remboursement 2013', u'Autres prescripteurs Base de remboursement 2008', u'Autres prescripteurs Base de remboursement 2009', u'Autres prescripteurs Base de remboursement 2010', u'Autres prescripteurs Base de remboursement 2011', u'Autres prescripteurs Base de remboursement 2012', u'Autres prescripteurs Base de remboursement 2013'], dtype='object')\n",
        "(16549, 38)"
       ]
      },
      {
       "output_type": "stream",
       "stream": "stdout",
       "text": [
        "\n"
       ]
      }
     ],
     "prompt_number": 4
    },
    {
     "cell_type": "markdown",
     "metadata": {},
     "source": [
      "Remove Product Name to extract info"
     ]
    },
    {
     "cell_type": "code",
     "collapsed": false,
     "input": [
      "def RemoveProduct(df):\n",
      "\tword_to_remove = str(df['PRODUIT']).split(' ')\n",
      "\tname = str(df['NOM COURT'])\n",
      "\tfor word in word_to_remove:\n",
      "\t\tname = name.replace(word,'')\n",
      "\treturn name\n",
      "\n",
      "DataMed['NOM COURT'] = DataMed.apply(lambda x : RemoveProduct(x),axis = 1)\n",
      "DataMed.rename(columns={'NOM COURT':'MED INFO'},inplace=True)\n",
      "print DataMed[['PRODUIT','MED INFO']][0:20]"
     ],
     "language": "python",
     "metadata": {},
     "outputs": [
      {
       "output_type": "stream",
       "stream": "stdout",
       "text": [
        "                          PRODUIT                               MED INFO\n",
        "CIP7                                                                    \n",
        "2160050       MONTELUKAST PHR LAB                            5 MG CPR 28\n",
        "2160191       MONTELUKAST PHR LAB                           10 MG CPR 28\n",
        "2160417        RIBAVIRINE ZENTIVA                          200 MG CPR 28\n",
        "2160423        RIBAVIRINE ZENTIVA                          400 MG CPR 14\n",
        "2160469                    YELLOX            0,9 MG/ML COLLYRE FL 1/5 ML\n",
        "2160506          ESOMEPRAZOLE RPG           20 MG CPR GASTRORESISTANT 28\n",
        "2160601          ESOMEPRAZOLE RPG           40 MG CPR GASTRORESISTANT 28\n",
        "2160707    CLARITHROMYCINE PFIZER                          250 MG CPR 10\n",
        "2160759    CLARITHROMYCINE PFIZER                          500 MG CPR 10\n",
        "2160765    CLARITHROMYCINE PFIZER                          500 MG CPR 14\n",
        "2160788     ESOMEPRAZOLE BIOGARAN            20 MG CPR GASTRORESISTANT 7\n",
        "2160794     ESOMEPRAZOLE BIOGARAN           20 MG CPR GASTRORESISTANT 14\n",
        "2160819     ESOMEPRAZOLE BIOGARAN           20 MG CPR GASTRORESISTANT 28\n",
        "2160908                    AVONEX   30 MCG/0,5 ML SOL INJ STYLO 4/0,5 ML\n",
        "2160937     ESOMEPRAZOLE BIOGARAN           40 MG CPR GASTRORESISTANT 14\n",
        "2160966     ESOMEPRAZOLE BIOGARAN           40 MG CPR GASTRORESISTANT 28\n",
        "2161055                 POLYGYNAX               VIRGO CAPSULE VAGINALE 6\n",
        "2161121  ESOMEPRAZOLE TEVA PHARMA            20 MG CPR GASTRORESISTANT 7\n",
        "2161150  ESOMEPRAZOLE TEVA PHARMA           20 MG CPR GASTRORESISTANT 28\n",
        "2161279              LHRH FERRING              100 MCG/ML SOL INJ 1/1 ML\n"
       ]
      }
     ],
     "prompt_number": 5
    },
    {
     "cell_type": "markdown",
     "metadata": {},
     "source": [
      "Liste des Medicaments derembourses"
     ]
    },
    {
     "cell_type": "code",
     "collapsed": false,
     "input": [
      "def Deremboursement(df):\n",
      "\tcol ='Base de remboursement ' \n",
      "\tlast_year = 2008\n",
      "\tfor year in range(2008,2014):\n",
      "\t\tremb = int(re.sub(r'\\D','',df[col + str(year)]))\n",
      "\t\tif remb > 0:\n",
      "\t\t\tlast_year = year + 1\n",
      "\treturn last_year\n",
      "\n",
      "DataMed['Date de Deremboursement'] = DataMed.apply(lambda x : Deremboursement(x),axis = 1)\n",
      "print DataMed[['PRODUIT','Date de Deremboursement']][DataMed['Date de Deremboursement']<2014].shape\n",
      "print DataMed[['PRODUIT','Date de Deremboursement']][DataMed['Date de Deremboursement']<2014][0:20]"
     ],
     "language": "python",
     "metadata": {},
     "outputs": [
      {
       "output_type": "stream",
       "stream": "stdout",
       "text": [
        "(2615, 2)\n",
        "                                            PRODUIT  Date de Deremboursement\n",
        "CIP7                                                                        \n",
        "2162356                         ESOMEPRAZOLE MYPLIX                     2013\n",
        "2162741                          ESOMEPRAZOLE ALMUS                     2013\n",
        "2162994                         ESOMEPRAZOLE ALTISO                     2012\n",
        "2163002                         ESOMEPRAZOLE ALTISO                     2013\n",
        "2163232                         ESOMEPRAZOLE ALTISO                     2008\n",
        "2163999                                 ZOLPRAZE G\u00e9                     2013\n",
        "2195775                          BICALUTAMIDE ZYDUS                     2013\n",
        "2196332                           DONEPEZIL ACTAVIS                     2013\n",
        "2224956                       BUPRENORPHINE ACTAVIS                     2013\n",
        "2230833                      CANDESARTAN RATIOPHARM                     2013\n",
        "2233754  CANDESARTAN/HYDROCHLOROTHIAZIDE RATIOPHARM                     2013\n",
        "2235397      CANDESARTAN/HYDROCHLOROTHIAZIDE ISOMED                     2013\n",
        "2235440      CANDESARTAN/HYDROCHLOROTHIAZIDE ISOMED                     2013\n",
        "3002778                                  ALLERGEFON                     2013\n",
        "3002790                        ALLOCHRYSINE LUMIERE                     2013\n",
        "3003861                                AMPHOCYCLINE                     2013\n",
        "3004151                               AMYLODIASTASE                     2009\n",
        "3004837                                    ANOREINE                     2012\n",
        "3005104                                    ANTALVIC                     2012\n",
        "3005280                                      ANTI H                     2012\n"
       ]
      }
     ],
     "prompt_number": 6
    },
    {
     "cell_type": "markdown",
     "metadata": {},
     "source": [
      "Liste des Medicaments nouvellement rembourses"
     ]
    },
    {
     "cell_type": "code",
     "collapsed": false,
     "input": [
      "def Remboursement(df,discontinue):\n",
      "\tcol ='Base de remboursement ' \n",
      "\tfirst_year = 2008\n",
      "\tlast_year = 2008\n",
      "\tfor year in range(2008,2014):\n",
      "\t\tremb = int(re.sub(r'\\D','',df[col + str(year)]))\n",
      "\t\tif remb > 0:\n",
      "\t\t\tlast_year = year + 1\n",
      "\tif last_year == 2014 or discontinue == True:\n",
      "\t\tfor year in range(2008,2014):\n",
      "\t\t\tremb = int(re.sub(r'\\D','',df[col + str(year)]))\n",
      "\t\t\tif remb > 0:\n",
      "\t\t\t\tfirst_year = year\n",
      "\t\t\t\tbreak\n",
      "\t\n",
      "\treturn first_year\n",
      "\n",
      "DataMed['Date de Remboursement'] = DataMed.apply(lambda x : Remboursement(x, False),axis = 1)\n",
      "print DataMed[['PRODUIT','Date de Remboursement']][DataMed['Date de Remboursement']>2008].shape\n",
      "print DataMed[['PRODUIT','Date de Remboursement']][DataMed['Date de Remboursement']>2008][0:20]"
     ],
     "language": "python",
     "metadata": {},
     "outputs": [
      {
       "output_type": "stream",
       "stream": "stdout",
       "text": [
        "(6216, 2)\n",
        "                          PRODUIT  Date de Remboursement\n",
        "CIP7                                                    \n",
        "2160050       MONTELUKAST PHR LAB                   2013\n",
        "2160191       MONTELUKAST PHR LAB                   2013\n",
        "2160417        RIBAVIRINE ZENTIVA                   2012\n",
        "2160423        RIBAVIRINE ZENTIVA                   2012\n",
        "2160469                    YELLOX                   2012\n",
        "2160506          ESOMEPRAZOLE RPG                   2013\n",
        "2160601          ESOMEPRAZOLE RPG                   2013\n",
        "2160707    CLARITHROMYCINE PFIZER                   2012\n",
        "2160759    CLARITHROMYCINE PFIZER                   2012\n",
        "2160765    CLARITHROMYCINE PFIZER                   2011\n",
        "2160788     ESOMEPRAZOLE BIOGARAN                   2012\n",
        "2160794     ESOMEPRAZOLE BIOGARAN                   2011\n",
        "2160819     ESOMEPRAZOLE BIOGARAN                   2011\n",
        "2160908                    AVONEX                   2012\n",
        "2160937     ESOMEPRAZOLE BIOGARAN                   2011\n",
        "2160966     ESOMEPRAZOLE BIOGARAN                   2011\n",
        "2161055                 POLYGYNAX                   2012\n",
        "2161121  ESOMEPRAZOLE TEVA PHARMA                   2012\n",
        "2161150  ESOMEPRAZOLE TEVA PHARMA                   2013\n",
        "2161279              LHRH FERRING                   2013\n"
       ]
      }
     ],
     "prompt_number": 7
    },
    {
     "cell_type": "code",
     "collapsed": false,
     "input": [],
     "language": "python",
     "metadata": {},
     "outputs": []
    }
   ],
   "metadata": {}
  }
 ]
}